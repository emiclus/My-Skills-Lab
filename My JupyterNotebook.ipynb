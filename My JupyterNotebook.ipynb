{
 "cells": [
  {
   "cell_type": "markdown",
   "id": "fbc28e7d-82f5-43e2-a82b-1e6a54fc86d4",
   "metadata": {},
   "source": [
    "## My Jupyter Notebook on IBM Watson Studio"
   ]
  },
  {
   "cell_type": "markdown",
   "id": "f1b3add0-1ceb-4cff-8e45-1924a6b9488f",
   "metadata": {},
   "source": [
    "<b>Michael Lusinde Kulaba</b>\n",
    "\n",
    "Data Scientist "
   ]
  },
  {
   "cell_type": "markdown",
   "id": "d5365bba-5303-47ff-90f4-dea0206aa5ed",
   "metadata": {},
   "source": [
    "_i am interested in data science because i want to use data to change the world_\n",
    "\n",
    "*also my interest is based on my curious, analytical and passion to dive deep into data*"
   ]
  },
  {
   "cell_type": "markdown",
   "id": "f1a9a5f9-5cc2-44b5-aa38-8ec6061e0b7a",
   "metadata": {},
   "source": [
    "<h3> My code is to add strings</h3>"
   ]
  },
  {
   "cell_type": "code",
   "execution_count": 4,
   "id": "ece85433-6dc5-40bd-b7a2-81a2192be731",
   "metadata": {},
   "outputs": [
    {
     "name": "stdout",
     "output_type": "stream",
     "text": [
      " i am happy to be in this class\n"
     ]
    }
   ],
   "source": [
    "stg= \" i am\" + \" happy to be in this class\"\n",
    "print (stg)"
   ]
  },
  {
   "cell_type": "markdown",
   "id": "1457ba5b-5bcf-4231-b4e3-e5ae8580c4be",
   "metadata": {},
   "source": [
    "***\n",
    "- A\n",
    "- B\n",
    " - C\n",
    " \n",
    " __[read more about pmml\n",
    " ](https://dmg.org/pmml/v4-1/GeneralStructure.html)__\n"
   ]
  },
  {
   "cell_type": "code",
   "execution_count": null,
   "id": "02ec5c36-5ad0-42bd-af1b-4cc7f54917ae",
   "metadata": {},
   "outputs": [],
   "source": []
  }
 ],
 "metadata": {
  "kernelspec": {
   "display_name": "Python 3 (ipykernel)",
   "language": "python",
   "name": "python3"
  },
  "language_info": {
   "codemirror_mode": {
    "name": "ipython",
    "version": 3
   },
   "file_extension": ".py",
   "mimetype": "text/x-python",
   "name": "python",
   "nbconvert_exporter": "python",
   "pygments_lexer": "ipython3",
   "version": "3.9.12"
  }
 },
 "nbformat": 4,
 "nbformat_minor": 5
}
